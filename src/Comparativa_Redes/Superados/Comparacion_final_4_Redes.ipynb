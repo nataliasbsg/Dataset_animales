version https://git-lfs.github.com/spec/v1
oid sha256:e5f9fcf4024abc2e62c42b04c9bbb90cf4d6198b63c48ea769a11ee4ec99d8be
size 42563263
