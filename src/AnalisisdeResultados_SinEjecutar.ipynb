{
  "cells": [
    {
      "cell_type": "markdown",
      "metadata": {
        "id": "view-in-github",
        "colab_type": "text"
      },
      "source": [
        "<a href=\"https://colab.research.google.com/github/nataliasbsg/Transfer_Learning_Animals/blob/main/src/AnalisisdeResultados_SinEjecutar.ipynb\" target=\"_parent\"><img src=\"https://colab.research.google.com/assets/colab-badge.svg\" alt=\"Open In Colab\"/></a>"
      ]
    },
    {
      "cell_type": "markdown",
      "metadata": {
        "id": "v0Nj4T2pFeaZ"
      },
      "source": [
        "# Importación de librerías\n",
        "\n",
        "Se importan todas las librerías necesarias para realizar la red de clasificación de animales. En este caso se trabajará con librerías para trabajar con las imágenes y TensorFlow para las redes."
      ]
    },
    {
      "cell_type": "code",
      "execution_count": 1,
      "metadata": {
        "id": "r4Q3bzdVqbPw"
      },
      "outputs": [],
      "source": [
        "# Importación de archivos desde drive\n",
        "from google.colab import drive\n",
        "\n",
        "# Tratamiento de imágenes\n",
        "import numpy as np\n",
        "import cv2\n",
        "import os\n",
        "import random\n",
        "import matplotlib.pyplot as plt\n",
        "import shutil\n",
        "import zipfile\n",
        "\n",
        "\n",
        "# Librerías para la red\n",
        "import tensorflow as tf\n",
        "import tensorflow_hub as hub\n",
        "\n",
        "from datetime import datetime\n",
        "\n",
        "from sklearn.datasets import make_classification\n",
        "from sklearn.metrics import confusion_matrix, ConfusionMatrixDisplay\n",
        "from sklearn.model_selection import train_test_split\n",
        "from sklearn.svm import SVC\n"
      ]
    },
    {
      "cell_type": "markdown",
      "metadata": {
        "id": "ca42HeOvLsf9"
      },
      "source": [
        "# Lectura de imágenes desde GitHub\n",
        "Se accede a las imagenes contenidas en GitHub (https://github.com/nataliasbsg/Dataset_animales). En este enlace se pueden encontrar 6 carpetas:\n",
        "1. BD_Familia: todas las imagenes con las cuales se ha entrenado la red, clasificadas en categorías y subcategorías.\n",
        "2.BD_Familia_Test: imágenes que nunca entraron en el entrenamiento de la red y también clasificadas. Hay 100 fotos de cada especie y su objetivo es testear la red-\n",
        "3.Modelos_Redes_Entrenados: son los modelos de las redes de familias y especies entrenados. El usuario no tiene necesidad de realizar nada con ellos, las redes los invocan cuando los requieren automáticamente.\n",
        "4. RealTest: imágenes de animales sin clasificar. Estas imágenes son para mostrar una aplicación más real de las redes y es el usuario el que determina lo que ha acertado la red. Estas imágenes se han sacado aleatorimente de BD_Familia_Test. \n",
        "5. RealTest_little: versión anterior con menos cantidad de imágenes. Estas imágenes se han sacado aleatorimente de BD_Familia_Test. \n",
        "6. src: Carpeta que contiene los código que implementan las redes.\n",
        "\n",
        "En este caso se van a utilizar las imágenes de BD_Familia_Test y están clasificadas en tres niveles de carpetas:\n",
        "1. Base de Datos general. Una sola carpeta que contiene todas las familias de animales que se quieren estudiar. Por ejemplo: \"Base de datos de animales\".\n",
        "2. Conjunto de carpetas de familias de animales que a su vez contienen las carpetas de especies animales de la misma familia (categories). Por ejemplo:  dentro de \"Base de datos de animales\" encontraríamos \"Cánidos\" y \"Felinos\".\n",
        "3. Conjunto de carpetas de especies animales (subcategories). Contienen las imagenes con las que se va a trabajar. Por ejemplo: dentro de \"Felinos\" encontraríamos \"Linces\" y \"Gatos\".\n",
        "\n",
        "\n",
        "Se estudiará la pertenencia a las familias de cada imagen y para ello se numerará la cantidad de imágenes de cada familia (no de cada especie) y se hará una copia de las imágenes clasificadas en la máquina virtual en la carpeta tmp (/tmp).\n",
        "\n",
        "En este caso las familias y las especies de cada una son las siguientes:\n",
        "0. Cánidos: zorros.\n",
        "1. Cérvidos: ciervos y gamos.\n",
        "2. Felinos: gatos y linces.\n",
        "3. Herpéstidos: meloncillos.\n",
        "4. Lepóridos: conejos y liebres.\n",
        "5. Mustélidos: tejones.\n",
        "6. Suidos: jabalíes.\n",
        "7. Vivérridos: ginetas."
      ]
    },
    {
      "cell_type": "code",
      "execution_count": null,
      "metadata": {
        "id": "BAG3-47tvuSM"
      },
      "outputs": [],
      "source": [
        "!wget --no-check-certificate \\\n",
        "    \"https://github.com/nataliasbsg/Transfer_Learning_Animals/archive/refs/heads/master.zip\" \\\n",
        "    -O \"/tmp/Transfer_Learning_Animals.zip\"\n",
        "\n",
        "zip_ref = zipfile.ZipFile('/tmp/Transfer_Learning_Animals.zip', 'r') #Opens the zip file in read mode\n",
        "zip_ref.extractall('/tmp') #Extracts the files into the /tmp folder\n",
        "zip_ref.close()"
      ]
    },
    {
      "cell_type": "code",
      "execution_count": 3,
      "metadata": {
        "id": "ccwUXhw4qU1f"
      },
      "outputs": [],
      "source": [
        "# Carpeta raiz\n",
        "dir = '/tmp/Transfer_Learning_Animals-main'\n",
        "\n",
        "# Carpeta donde se almacenan los modelos de redes entrenados\n",
        "dir_modelos = dir + '/Modelos_Redes_Entrenados/Mobilenet_V3'\n",
        "#dir_modelos = dir + '/Modelos_Redes_Entrenados/Inception-Resnet_V2'\n",
        "\n",
        "if dir_modelos == dir + '/Modelos_Redes_Entrenados/Inception-Resnet_V2':\n",
        "  img_size = 299\n",
        "else:\n",
        "  img_size = 224\n",
        "\n",
        "# Se cargan los modelos de las redes\n",
        "modelo = tf.keras.models.load_model(dir_modelos + '/clasificador_animales.h5',custom_objects={'KerasLayer':hub.KerasLayer})\n",
        "modelo_cervidos = tf.keras.models.load_model(dir_modelos + '/clasificador_cervidos.h5',custom_objects={'KerasLayer':hub.KerasLayer})\n",
        "modelo_felinos = tf.keras.models.load_model(dir_modelos + '/clasificador_felinos.h5',custom_objects={'KerasLayer':hub.KerasLayer})\n",
        "modelo_leporidos = tf.keras.models.load_model(dir_modelos + '/clasificador_leporidos.h5',custom_objects={'KerasLayer':hub.KerasLayer})\n",
        "\n",
        "# Se carga la base de datos de imagenes que se quieren clasificar\n",
        "dir_bd = dir + '/BD_Familia_Test'"
      ]
    },
    {
      "cell_type": "code",
      "execution_count": 4,
      "metadata": {
        "id": "MdgOqS-kq39i"
      },
      "outputs": [],
      "source": [
        "dict_modelos = {\n",
        "    \"Cervidos\": modelo_cervidos,\n",
        "    \"Felinos\": modelo_felinos,\n",
        "    \"Leporidos\": modelo_leporidos\n",
        "}"
      ]
    },
    {
      "cell_type": "code",
      "execution_count": 5,
      "metadata": {
        "id": "5uRW1FPHdgDM"
      },
      "outputs": [],
      "source": [
        "#Se fijan las categorias y subcategorías con las que se va a trabajar\n",
        "categories = ['Canidos', 'Cervidos', 'Felinos', 'Herpestidos', 'Leporidos', 'Mustelidos', 'Suidos', 'Viverridos']\n",
        "subcategories = [['Zorro'], ['Ciervo', 'Gamo'], ['Gato montes', 'Lince iberico'], ['Meloncillo'], ['Conejo', 'Liebre'], ['Tejon'], ['Jabali'], ['Gineta']]"
      ]
    },
    {
      "cell_type": "code",
      "source": [
        "class ImagePrediction():\n",
        "  \"\"\" \n",
        "  img: ndarray\n",
        "    Imagen adaptada para trabajar con ella.\n",
        "  categorie:  int\n",
        "    Categoria de la imagen.\n",
        "  subcategorie:  int    \n",
        "    Subcategoria de la imagen.\n",
        "  categorie_real_name: str\n",
        "    Nombre de categoria de la imagen.\n",
        "  subcategorie_real_name: str\n",
        "    Nombre de categoria de la imagen.\n",
        "\n",
        "  categorie_predict_probability:  array[float]\n",
        "    Probabilidad de la categoria de la imagen predicha.\n",
        "  subcategorie_predict_probability:  array[float]\n",
        "    Probabilidad de la subcategoria de la imagen predicha.\n",
        "  categorie_predict:  int\n",
        "    Categoria de la imagen predicha.\n",
        "  subcategorie_predict:  int\n",
        "    Subcategoria de la imagen predicha.\n",
        "  categorie_predict_name: str\n",
        "    Categoria de la imagen predicha.\n",
        "  subcategorie_predict_name: str\n",
        "    Subcategoria de la imagen predicha.\n",
        "  \"\"\"\n",
        "\n",
        "  def __init__(self, dir_img, categorie, subcategorie):\n",
        "    self.img = cv2.imread(dir_img)\n",
        "    self.img = np.array(self.img).astype(float)/255\n",
        "    self.img = cv2.resize(self.img, (img_size,img_size))\n",
        "    self.img = np.array(self.img).astype(float)\n",
        "    self.categorie = categories.index(categorie)\n",
        "    self.subcategorie = subcategories[self.categorie].index(subcategorie)\n",
        "    self.categorie_real_name = categories[self.categorie]\n",
        "    self.subcategorie_real_name = subcategories[self.categorie][self.subcategorie]\n",
        "    self.predict()\n",
        "\t\n",
        "  def predict(self):\n",
        "    self.categories_predict_probability = modelo.predict(self.img.reshape(-1, img_size, img_size, 3))[0]\n",
        "    self.categorie_predict = np.argmax(self.categories_predict_probability)\n",
        "    self.categorie_predict_name = categories[self.categorie_predict]\n",
        "    \n",
        "    if categories[self.categorie_predict] in dict_modelos:\n",
        "      modelo_subcategorie = dict_modelos[categories[self.categorie_predict]]\n",
        "      self.subcategorie_predict_probability = modelo_subcategorie.predict(self.img.reshape(-1, img_size, img_size, 3))[0]\n",
        "      self.subcategorie_predict = np.argmax(self.subcategorie_predict_probability)\n",
        "      self.subcategorie_predict_name = subcategories[self.categorie_predict][self.subcategorie_predict]\n",
        "\n",
        "    else:\n",
        "      self.subcategorie_predict_probability = [1]\n",
        "      self.subcategorie_predict = 0\n",
        "      self.subcategorie_predict_name = subcategories[self.categorie_predict][self.subcategorie_predict]\n",
        "      "
      ],
      "metadata": {
        "id": "b0qATlZNDJfM"
      },
      "execution_count": 8,
      "outputs": []
    },
    {
      "cell_type": "markdown",
      "source": [
        "#Clasificación de imágenes\n",
        "En este apartados se leen cada una de las imágenes y se les aplica las redes neuronales para predecir la familia y especie de cada animal en un array."
      ],
      "metadata": {
        "id": "mpsP7tOZTfFb"
      }
    },
    {
      "cell_type": "code",
      "source": [
        "images = []\n",
        "for i, categorie in  enumerate(categories):\n",
        "  for subcategorie in subcategories[i]:\n",
        "    for _img in  os.listdir(dir_bd + \"/{}/{}\".format(categorie, subcategorie)):\n",
        "      images.append(ImagePrediction(dir_bd + \"/{}/{}/{}\".format(categorie, subcategorie,_img), categorie, subcategorie))"
      ],
      "metadata": {
        "id": "vLanwxqbSZ5x"
      },
      "execution_count": 9,
      "outputs": []
    },
    {
      "cell_type": "markdown",
      "source": [
        "# Visualización de imágenes categorizadas\n",
        "Se van a mostrar las imágenes con las predicciones de la siguiente forma:\n",
        "- En la parte izquierda se muestra la imagen del animal y se pone debajo su predicción de familia y especie y su porcentaje de seguridad respecto dichas predicciones. El texto se muestra en verde cuando acierta y en rojo cuando falla. Cabe destacar que si en una familia solo hay una especie estudiada su porcentaje siempre será el 100 %.\n",
        "\n",
        "- En la parte derecha se muestra un diagrama de barras con todas las familias estudiadas, siendo la barra mayor la predicción final de la red. La barra de la familia real se muestra en verde y si la barra mayor no coincide con la predicción real se mostrará la barra de la predicción en rojo. \n"
      ],
      "metadata": {
        "id": "wNxMdWpXUMEh"
      }
    },
    {
      "cell_type": "code",
      "source": [
        "filas = 10\n",
        "columnas = 2\n",
        "num_imagenes = filas*columnas\n",
        "images_show = images\n",
        "random.shuffle(images_show)\n",
        "\n",
        "def graficar_imagen(img_graf: ImagePrediction):\n",
        "  plt.grid(False)\n",
        "  plt.xticks([])\n",
        "  plt.yticks([])\n",
        "  img = img_graf.img[:,:,[2,1,0]]\n",
        "  plt.imshow(img)\n",
        "\n",
        "  if img_graf.subcategorie_predict == img_graf.subcategorie:\n",
        "    color = \"green\"\n",
        "  else:\n",
        "    color = \"red\"\n",
        "\n",
        "  plt.xlabel(\"{} {:2.0f}% ({})\".format(img_graf.subcategorie_predict_name,\n",
        "                                100*np.max(img_graf.subcategorie_predict_probability),\n",
        "                                img_graf.subcategorie_real_name), color=color, fontsize=20)\n",
        "                                \n",
        "  \n",
        "def graficar_valor_arreglo(arr_predicciones, etiqueta_real):\n",
        "  plt.grid(False)\n",
        "  # plt.xticks([])\n",
        "  # plt.yticks([])\n",
        "  plt.xticks(fontsize=10)\n",
        "  grafica = plt.bar(categories, arr_predicciones, color=\"#777777\")\n",
        "  plt.ylim([0, 1]) \n",
        "  # print(etiqueta_real)\n",
        "  etiqueta_prediccion = int(np.argmax(arr_predicciones, axis=-1))\n",
        "  # print(etiqueta_prediccion)\n",
        "  grafica[etiqueta_real].set_color('green')\n",
        "  if etiqueta_prediccion == etiqueta_real:\n",
        "    grafica[etiqueta_prediccion].set_color('green')\n",
        "  else:\n",
        "    grafica[etiqueta_prediccion].set_color('red')\n",
        "  #plt.xlabel('Lenguajes de programación')\n",
        "  \n",
        "plt.figure(figsize=(20*columnas, 10*filas))\n",
        "\n",
        "\n",
        "for i in range(num_imagenes):\n",
        "  plt.subplot(filas, 2*columnas, 2*i+1)\n",
        "  graficar_imagen(images_show[i])\n",
        "  plt.subplot(filas, 2*columnas, 2*i+2)\n",
        "  graficar_valor_arreglo(images_show[i].categories_predict_probability, images_show[i].categorie)"
      ],
      "metadata": {
        "id": "TXQIbOwMTjJK"
      },
      "execution_count": null,
      "outputs": []
    },
    {
      "cell_type": "code",
      "source": [
        "aciertos = 0\n",
        "fallos = 0\n",
        "for _img in images:\n",
        "  if _img.subcategorie == _img.subcategorie_predict:\n",
        "    aciertos += 1\n",
        "  else:\n",
        "    fallos +=1\n",
        "\n",
        "total = len(images)\n",
        "print (f'El número de aciertos es del {round(aciertos/total*100,2)}% y el número de fallos es del {round(fallos/total*100,2)}%')"
      ],
      "metadata": {
        "id": "4ktDSTxAMwU8",
        "colab": {
          "base_uri": "https://localhost:8080/"
        },
        "outputId": "62e92849-f106-417d-baaa-22050b970b4a"
      },
      "execution_count": 11,
      "outputs": [
        {
          "output_type": "stream",
          "name": "stdout",
          "text": [
            "El número de aciertos es del 89.64% y el número de fallos es del 10.36%\n"
          ]
        }
      ]
    },
    {
      "cell_type": "markdown",
      "source": [
        "## Matrices de confusión\n",
        "Esta herramienta permita visualizar los resultados de aciertos y fallos en una tabla. Los aciertos se dan cuando el True label coincide con el predicted label, es decir, los resultados serán mejores cuando las mayor parte de las imágenes \"entren\" en la diagonal principal de la matriz.\n",
        "\n",
        "En este caso se analizarán las familias, siendo 100 imágenes si es una familia con una sola especie y siendo 200 imágenes si es una familia con 2 especies."
      ],
      "metadata": {
        "id": "lMk6yIAyMw-X"
      }
    },
    {
      "cell_type": "code",
      "source": [
        "y_pred =[]\n",
        "y_real =[]\n",
        "\n",
        "for img in images:\n",
        "  y_pred.append(img.categorie_predict)\n",
        "  y_real.append(img.categorie)\n",
        "\n",
        "target_names = ['Cánidos', 'Cérvidos', 'Felinos', 'Herpéstidos', 'Lepóridos', 'Mustélidos', 'Suidos', 'Vivérridos']\n",
        "confusion_matrix = ConfusionMatrixDisplay.from_predictions(y_real, y_pred, display_labels=target_names, xticks_rotation=45)\n",
        "\n",
        "plt.title('Matriz de confusión de familias de animales\\n', fontsize=15)\n",
        "plt.xlabel('Familias predecidas')\n",
        "plt.ylabel('Familias reales')"
      ],
      "metadata": {
        "id": "pJCA0lopaKZ4"
      },
      "execution_count": null,
      "outputs": []
    },
    {
      "cell_type": "markdown",
      "source": [
        "En este caso se analizarán las especies de las familias con más de una especie, es decir, los cérvidos, los felinos y los lepóridos."
      ],
      "metadata": {
        "id": "0hoP536rRpBO"
      }
    },
    {
      "cell_type": "code",
      "source": [
        "conf_arr = []\n",
        "\n",
        "dict_etiquetas = {\n",
        "    \"Cervidos\": {\"etiquetas_reales\":[], \"etiquetas_predicciones\":[], \"etiquetas_reales_name\":['Ciervo', 'Gamo']},\n",
        "    \"Felinos\": {\"etiquetas_reales\":[], \"etiquetas_predicciones\":[], \"etiquetas_reales_name\":['Gato montes', 'Lince iberico']},\n",
        "    \"Leporidos\": {\"etiquetas_reales\":[], \"etiquetas_predicciones\":[], \"etiquetas_reales_name\":['Conejo', 'Liebre']},\n",
        "}\n",
        "\n",
        "for img in images:\n",
        "  if img.categorie_real_name in dict_modelos.keys():\n",
        "    dict_etiquetas[img.categorie_real_name][\"etiquetas_reales\"].append(img.subcategorie)\n",
        "    dict_etiquetas[img.categorie_real_name][\"etiquetas_predicciones\"].append(img.subcategorie_predict)\n",
        "\n",
        "plt.figure(figsize=(30, 10))\n",
        "for i, categorie in enumerate(dict_etiquetas.keys()):\n",
        "  target_names_2 = dict_etiquetas[categorie][\"etiquetas_reales_name\"]\n",
        "  conf_arr.append(ConfusionMatrixDisplay.from_predictions(dict_etiquetas[categorie][\"etiquetas_reales\"], dict_etiquetas[categorie][\"etiquetas_predicciones\"], display_labels=target_names_2, ax = plt.subplot(1, len(dict_etiquetas.keys()), i+1)))\n",
        "  plt.title('Matriz de confusión de {} \\n'.format(categorie), fontsize=15)\n",
        "  plt.xlabel('Especies predecidas')\n",
        "  plt.ylabel('Especies reales')"
      ],
      "metadata": {
        "id": "4OuO60CuzxY2"
      },
      "execution_count": null,
      "outputs": []
    },
    {
      "cell_type": "markdown",
      "source": [
        "En este caso se puede observar que lo que más le cuesta identificar es a los gamos. Esto es debido a que en invierno pierden sus motas blancas tan características y puede llegar a ser complicado distinguirlos incluso entre los expertos. Aun así la cornamente presenta diferencias (en los gamos tienen forma de palas), pero las hembras de lejos es muy complicado distinguir unas de otras."
      ],
      "metadata": {
        "id": "0pEdql-DeMvi"
      }
    }
  ],
  "metadata": {
    "colab": {
      "collapsed_sections": [],
      "name": "AnalisisdeResultados_SinEjecutar.ipynb",
      "provenance": [],
      "mount_file_id": "14wqaLIHg1h1irzr9IACUq3EJRghZTKX8",
      "authorship_tag": "ABX9TyNtTQRWOS15Wzalqwogu9F5",
      "include_colab_link": true
    },
    "kernelspec": {
      "display_name": "Python 3",
      "name": "python3"
    },
    "language_info": {
      "name": "python"
    }
  },
  "nbformat": 4,
  "nbformat_minor": 0
}