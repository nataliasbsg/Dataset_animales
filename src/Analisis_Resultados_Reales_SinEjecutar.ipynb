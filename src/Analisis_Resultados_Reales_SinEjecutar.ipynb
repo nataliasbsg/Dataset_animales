{
  "cells": [
    {
      "cell_type": "markdown",
      "metadata": {
        "id": "view-in-github",
        "colab_type": "text"
      },
      "source": [
        "<a href=\"https://colab.research.google.com/github/nataliasbsg/Dataset_animales/blob/main/Analisis_Resultados_Reales_SinEjecutar.ipynb\" target=\"_parent\"><img src=\"https://colab.research.google.com/assets/colab-badge.svg\" alt=\"Open In Colab\"/></a>"
      ]
    },
    {
      "cell_type": "code",
      "execution_count": null,
      "metadata": {
        "id": "z_TnN_lm_t0g"
      },
      "outputs": [],
      "source": [
        "# LIBRERIAS\n",
        "# Importación de archivos desde drive\n",
        "from google.colab import drive\n",
        "\n",
        "# Tratamiento de imagenes\n",
        "import numpy as np\n",
        "import cv2\n",
        "import os\n",
        "import random\n",
        "import matplotlib.pyplot as plt\n",
        "import zipfile\n",
        "from PIL import Image\n",
        "\n",
        "# Librerias para la red\n",
        "import tensorflow as tf\n",
        "import tensorflow_hub as hub\n",
        "\n",
        "# Trabajar con url\n",
        "import requests\n",
        "from io import BytesIO"
      ]
    },
    {
      "cell_type": "markdown",
      "source": [
        "# Lectura de imágenes desde GitHub\n",
        "Se accede a las imagenes contenidas en GitHub (https://github.com/nataliasbsg/Dataset_animales). En este enlace se pueden encontrar 5 carpetas:\n",
        "1. BD_Familia: todas las imagenes con las cuales se ha entrenado la red, Clasificadas en categrías y subcategorías.\n",
        "2.BD_Familia_Test: imágenes que nunca entraron en el entrenamiento de la red y también clasificadas. Hay 100 fotos de cada especie y su objetivo es testear la red-\n",
        "3.Modelos_Redes_Entrenados: son los modelos de las redes de familias y especies entrenados. El usuario no tiene necesidad de realizar nada con ellos, las redes los invocan cuando los requieren automáticamente.\n",
        "4. RealTest: imágenes de animales sin clasificar. Estas imágenes son para mostrar una aplicación más real de las redes y es el usuario el que determina lo que ha acertado la red. Estas imágenes se han sacado aleatorimente de BD_Familia_Test. \n",
        "5. RealTest_little: versión anterior con menos cantidad de imágenes. Estas imágenes se han sacado aleatorimente de BD_Familia_Test. \n",
        "6. src: Carpeta que contiene los código que implementan las redes.\n",
        "\n",
        "En este caso se van a utilizar las imágenes de BD_Familia_Test y están clasificadas en tres niveles de carpetas:\n",
        "1. Base de Datos general. Una sola carpeta que contiene todas las familias de animales que se quieren estudiar. Por ejemplo: \"Base de datos de animales\".\n",
        "2. Conjunto de carpetas de familias de animales que a su vez contienen las carpetas de especies animales de la misma familia (categories). Por ejemplo:  dentro de \"Base de datos de animales\" encontraríamos \"Cánidos\" y \"Felinos\".\n",
        "3. Conjunto de carpetas de especies animales (subcategories). Contienen las imagenes con las que se va a trabajar. Por ejemplo: dentro de \"Felinos\" encontraríamos \"Linces\" y \"Gatos\".\n",
        "\n",
        "\n",
        "Se estudiará la pertenencia a las familias de cada imagen y para ello se numerará la cantidad de imágenes de cada familia (no de cada especie) y se hará una copia de las imágenes clasificadas en la máquina virtual en la carpeta tmp (/tmp).\n",
        "\n",
        "En este caso las familias y las especies de cada una son las siguientes:\n",
        "0. Cánidos: zorros.\n",
        "1. Cérvidos: ciervos y gamos.\n",
        "2. Felinos: gatos y linces.\n",
        "3. Herpéstidos: meloncillos.\n",
        "4. Lepóridos: conejos y liebres.\n",
        "5. Mustélidos: tejones.\n",
        "6. Suidos: jabalíes.\n",
        "7. Vivérridos: ginetas."
      ],
      "metadata": {
        "id": "QCGgF7EoGeDp"
      }
    },
    {
      "cell_type": "code",
      "execution_count": null,
      "metadata": {
        "id": "5Fr80Z6Jk8rf"
      },
      "outputs": [],
      "source": [
        "!wget --no-check-certificate \\\n",
        "    \"https://github.com/nataliasbsg/Dataset_animales/archive/refs/heads/master.zip\" \\\n",
        "    -O \"/tmp/Dataset_animales.zip\"\n",
        "\n",
        "\n",
        "zip_ref = zipfile.ZipFile('/tmp/Dataset_animales.zip', 'r') #Opens the zip file in read mode\n",
        "zip_ref.extractall('/tmp') #Extracts the files into the /tmp folder\n",
        "zip_ref.close()"
      ]
    },
    {
      "cell_type": "code",
      "execution_count": null,
      "metadata": {
        "id": "KYY5Wpi__t0j"
      },
      "outputs": [],
      "source": [
        "# Carpeta raiz\n",
        "dir = '/tmp/Dataset_animales-main'\n",
        "\n",
        "# Carpeta donde se almacenan los modelos de redes entrenados\n",
        "dir_modelos = dir + '/Modelos_Redes_Entrenados'\n",
        "# Se cargan los modelos de las redes\n",
        "modelo = tf.keras.models.load_model(dir_modelos + '/clasificador_animales.h5',custom_objects={'KerasLayer':hub.KerasLayer})\n",
        "modelo_cervidos = tf.keras.models.load_model(dir_modelos + '/clasificador_cérvidos.h5',custom_objects={'KerasLayer':hub.KerasLayer})\n",
        "modelo_felinos = tf.keras.models.load_model(dir_modelos + '/clasificador_felinos.h5',custom_objects={'KerasLayer':hub.KerasLayer})\n",
        "modelo_leporidos = tf.keras.models.load_model(dir_modelos + '/clasificador_lepóridos.h5',custom_objects={'KerasLayer':hub.KerasLayer})\n",
        "\n",
        "dir_bd = dir + '/RealTest_little'"
      ]
    },
    {
      "cell_type": "code",
      "execution_count": null,
      "metadata": {
        "id": "5fxjGFn-_t0l"
      },
      "outputs": [],
      "source": [
        "# Se guardan en categories las familias a clasificas y en subcategorias las especies\n",
        "categories = ['Canidos', 'Cervidos', 'Felinos', 'Herpestidos', 'Leporidos', 'Mustelidos', 'Suidos', 'Viverridos']\n",
        "subcategories = [['Zorro'], ['Ciervo', 'Gamo'], ['Gato montes', 'Lince iberico'], ['Meloncillo'], ['Conejo', 'Liebre'], ['Tejon'], ['Jabali'], ['Gineta']]\n",
        "# Se crean carpetas y subcarpetas para la clasificacion de imagenes\n",
        "for i, categorie in enumerate(categories):\n",
        "  for subcategorie in subcategories[i]:\n",
        "    carpeta_destino = dir + '/animales_clasificados/{}/{}'.format(categorie, subcategorie)\n",
        "    if not os.path.exists(carpeta_destino):\n",
        "       os.makedirs(carpeta_destino)\n"
      ]
    },
    {
      "cell_type": "code",
      "execution_count": null,
      "metadata": {
        "id": "6lhQrp0T_t0m"
      },
      "outputs": [],
      "source": [
        "# Se hace un diccionario de modelos para acceder a ellos facilmente\n",
        "dict_modelos = {\n",
        "    \"Cervidos\": modelo_cervidos,\n",
        "    \"Felinos\": modelo_felinos,\n",
        "    \"Leporidos\": modelo_leporidos\n",
        "}"
      ]
    },
    {
      "cell_type": "code",
      "execution_count": null,
      "metadata": {
        "id": "WX1w0NTH_t0o"
      },
      "outputs": [],
      "source": [
        "# Se crea una clase para sacar información de la imagenes facilmente\n",
        "class ImagePrediction():\n",
        "  \"\"\" \n",
        "  Clase para predecir la especie animal de la imagen dada.\n",
        "\n",
        "  Attributes\n",
        "  -----------\n",
        "  img_original: ndarray\n",
        "    Imagen leída.\n",
        "  img: ndarray\n",
        "    Imagen adaptada para trabajar con ella.\n",
        "  categorie:  int\n",
        "    Categoria de la imagen.\n",
        "  subcategorie:  int    \n",
        "    Subcategoria de la imagen.\n",
        "  categorie_real_name: str\n",
        "    Nombre de categoria de la imagen.\n",
        "  subcategorie_real_name: str\n",
        "    Nombre de categoria de la imagen.\n",
        "  categorie_predict_probability:  array[float]\n",
        "    Probabilidad de la categoria de la imagen predicha.\n",
        "  subcategorie_predict_probability:  array[float]\n",
        "    Probabilidad de la subcategoria de la imagen predicha.\n",
        "  categorie_predict:  int\n",
        "    Categoria de la imagen predicha.\n",
        "  subcategorie_predict:  int\n",
        "    Subcategoria de la imagen predicha.\n",
        "  categorie_predict_name: str\n",
        "    Categoria de la imagen predicha.\n",
        "  subcategorie_predict_name: str\n",
        "    Subcategoria de la imagen predicha.\n",
        "  \"\"\"\n",
        "  \n",
        "  def __init__(self, dir_img):\n",
        "    self.img_original = cv2.imread(dir_img)\n",
        "    self.img = np.array(self.img_original).astype(float)/255\n",
        "    self.img = cv2.resize(self.img, (224,224))\n",
        "    self.img = np.array(self.img).astype(float)\n",
        "    self.name = os.path.basename(dir_img)\n",
        "    self.predict()\n",
        "\t\n",
        "  def predict(self):\n",
        "    self.categorie_predict_probability = modelo.predict(self.img.reshape(-1, 224, 224, 3))[0]\n",
        "    self.categorie_predict = np.argmax(self.categorie_predict_probability)\n",
        "    self.categorie_predict_name = categories[self.categorie_predict]\n",
        "    \n",
        "    if categories[self.categorie_predict] in dict_modelos:\n",
        "      modelo_subcategorie = dict_modelos[categories[self.categorie_predict]]\n",
        "      self.subcategorie_predict_probability = modelo_subcategorie.predict(self.img.reshape(-1, 224, 224, 3))[0]\n",
        "      self.subcategorie_predict = np.argmax(self.subcategorie_predict_probability)\n",
        "      self.subcategorie_predict_name = subcategories[self.categorie_predict][self.subcategorie_predict]\n",
        "\n",
        "    else:\n",
        "      self.subcategorie_predict_probability = [1]\n",
        "      self.subcategorie_predict = 0\n",
        "      self.subcategorie_predict_name = subcategories[self.categorie_predict][self.subcategorie_predict]"
      ]
    },
    {
      "cell_type": "code",
      "execution_count": null,
      "metadata": {
        "id": "tTOKU5t7UHx1"
      },
      "outputs": [],
      "source": [
        "num_img = len(os.listdir(dir_bd))\n",
        "columnas = 4\n",
        "filas = int(num_img / 4)+1"
      ]
    },
    {
      "cell_type": "code",
      "execution_count": null,
      "metadata": {
        "id": "Be9oapA1RxMb"
      },
      "outputs": [],
      "source": [
        "def graficar_imagen(img_graf: ImagePrediction):\n",
        "  plt.grid(False)\n",
        "  plt.xticks([])\n",
        "  plt.yticks([])\n",
        "  img = img_graf.img[:,:,[2,1,0]]\n",
        "  plt.imshow(img)\n",
        "\n",
        "  plt.xlabel(\"Familia: {} ({:2.0f}%) \\n Especie: {} ({:2.0f}%)\".format(img_graf.categorie_predict_name, \n",
        "                                           100*np.max(img_graf.categorie_predict_probability),\n",
        "                                           img_graf.subcategorie_predict_name,\n",
        "                                           100*np.max(img_graf.subcategorie_predict_probability)),fontsize=20)"
      ]
    },
    {
      "cell_type": "markdown",
      "source": [
        "# Visualización de imágenes categorizadas\n",
        "Se van a mostrar las imágenes con las predicciones con la predicción de la familia, la especie y el porcentaje de seguridad respecto a dichas predicciones."
      ],
      "metadata": {
        "id": "ozc1NqSWGsbu"
      }
    },
    {
      "cell_type": "code",
      "execution_count": null,
      "metadata": {
        "id": "1ecSNdW0_t0r"
      },
      "outputs": [],
      "source": [
        "# Se predice la clase de cada imagen con la clase ImagePrediction y se clasifican en carpetas y subcarpetas\n",
        "plt.figure(figsize=(10*columnas, 10*filas))\n",
        "for i, img in  enumerate(os.listdir(dir_bd)):\n",
        "    img2 = ImagePrediction(dir_bd + \"/\" + img)\n",
        "    img_category = img2.categorie_predict_name\n",
        "    img_subcategory = img2.subcategorie_predict_name\n",
        "    img_name = img2.name\n",
        "    cv2.imwrite(dir + '/animales_clasificados/{}/{}/{}'.format(img_category, img_subcategory, img_name), img2.img_original)\n",
        "    plt.subplot(filas, columnas, i+1)\n",
        "    graficar_imagen(img_graf= img2)"
      ]
    },
    {
      "cell_type": "code",
      "execution_count": null,
      "metadata": {
        "id": "-k4MNDWaQe5r"
      },
      "outputs": [],
      "source": [
        "for i, categorie in enumerate(categories):\n",
        "    for subcategorie in subcategories[i]:\n",
        "      n_img = len(os.listdir(dir + '/animales_clasificados/{}/{}'.format(categorie, subcategorie)))\n",
        "      print( f'Se han clasificado como {subcategorie:15} {n_img:3} imágenes') "
      ]
    },
    {
      "cell_type": "markdown",
      "metadata": {
        "id": "h16hWI21hoiA"
      },
      "source": [
        "# ¡Pruébalo tú mismo con la imagen que quieras!\n",
        "Busca el animal que quieras en internet y a la imagen deseada le das click derecho y en el desplegable selecciona \"Copiar dirreción de imagen\". Esa url pégala abajo y nuestra red intentará predecir qué especie es."
      ]
    },
    {
      "cell_type": "code",
      "execution_count": null,
      "metadata": {
        "id": "Oq7I7-oXoK8s"
      },
      "outputs": [],
      "source": [
        "class ImageCategory():\n",
        "  \"\"\" \n",
        "  Clase para predecir la especie animal de la imagen dada.\n",
        "\n",
        "  Attributes\n",
        "  -----------\n",
        "  img_original: ndarray\n",
        "    Imagen leída.\n",
        "  img: ndarray\n",
        "    Imagen adaptada para trabajar con ella.\n",
        "  categorie:  int\n",
        "    Categoria de la imagen.\n",
        "  subcategorie:  int    \n",
        "    Subcategoria de la imagen.\n",
        "  categorie_real_name: str\n",
        "    Nombre de categoria de la imagen.\n",
        "  subcategorie_real_name: str\n",
        "    Nombre de categoria de la imagen.\n",
        "  categorie_predict_probability:  array[float]\n",
        "    Probabilidad de la categoria de la imagen predicha.\n",
        "  subcategorie_predict_probability:  array[float]\n",
        "    Probabilidad de la subcategoria de la imagen predicha.\n",
        "  categorie_predict:  int\n",
        "    Categoria de la imagen predicha.\n",
        "  subcategorie_predict:  int\n",
        "    Subcategoria de la imagen predicha.\n",
        "  categorie_predict_name: str\n",
        "    Categoria de la imagen predicha.\n",
        "  subcategorie_predict_name: str\n",
        "    Subcategoria de la imagen predicha.\n",
        "  \"\"\"\n",
        "  \n",
        "  def __init__(self, dir_img):\n",
        "    self.respuesta = requests.get(url)\n",
        "    self.img_original = Image.open(BytesIO(self.respuesta.content))\n",
        "    self.img = np.array(self.img_original).astype(float)/255\n",
        "    self.img = cv2.resize(self.img, (224,224))\n",
        "    self.img = np.array(self.img).astype(float)\n",
        "    self.name = os.path.basename(dir_img)\n",
        "    self.predict()\n",
        "\t\n",
        "  def predict(self):\n",
        "    self.categorie_predict_probability = modelo.predict(self.img.reshape(-1, 224, 224, 3))[0]\n",
        "    self.categorie_predict = np.argmax(self.categorie_predict_probability)\n",
        "    self.categorie_predict_name = categories[self.categorie_predict]\n",
        "    \n",
        "    if categories[self.categorie_predict] in dict_modelos:\n",
        "      modelo_subcategorie = dict_modelos[categories[self.categorie_predict]]\n",
        "      self.subcategorie_predict_probability = modelo_subcategorie.predict(self.img.reshape(-1, 224, 224, 3))[0]\n",
        "      self.subcategorie_predict = np.argmax(self.subcategorie_predict_probability)\n",
        "      self.subcategorie_predict_name = subcategories[self.categorie_predict][self.subcategorie_predict]\n",
        "\n",
        "    else:\n",
        "      self.subcategorie_predict_probability = [1]\n",
        "      self.subcategorie_predict = 0\n",
        "      self.subcategorie_predict_name = subcategories[self.categorie_predict][self.subcategorie_predict]"
      ]
    },
    {
      "cell_type": "code",
      "execution_count": null,
      "metadata": {
        "id": "pSPI7Jtayxws"
      },
      "outputs": [],
      "source": [
        "def graficar_imagen_url(img_graf: ImagePrediction):\n",
        "  plt.grid(False)\n",
        "  plt.xticks([])\n",
        "  plt.yticks([])\n",
        "  img = img_graf.img[:,:,[0,1,2]]\n",
        "  plt.imshow(img)\n",
        "\n",
        "  plt.xlabel(\"Familia: {} ({:2.0f}%) \\n Especie: {} ({:2.0f}%)\".format(img_graf.categorie_predict_name, \n",
        "                                           100*np.max(img_graf.categorie_predict_probability),\n",
        "                                           img_graf.subcategorie_predict_name,\n",
        "                                           100*np.max(img_graf.subcategorie_predict_probability)),fontsize=20)"
      ]
    },
    {
      "cell_type": "code",
      "execution_count": null,
      "metadata": {
        "id": "6e0L9wP1z6Ra"
      },
      "outputs": [],
      "source": [
        "def categorizar_imagen_url(url: str):\n",
        "  plt.figure(figsize=(10*columnas, 10*filas))\n",
        "  img3 = ImageCategory(url)\n",
        "  img_category = img3.categorie_predict_name\n",
        "  img_subcategory = img3.subcategorie_predict_name\n",
        "  img_name = img3.name\n",
        "  plt.subplot(filas, columnas, i+1)\n",
        "  graficar_imagen_url(img_graf= img3)"
      ]
    },
    {
      "cell_type": "code",
      "execution_count": null,
      "metadata": {
        "id": "D52D3PjKhxEX"
      },
      "outputs": [],
      "source": [
        "#Categorizar una imagen de internet\n",
        "\n",
        "#Ejemplos\n",
        "# url = 'https://wwfes.awsassets.panda.org/img/original/cachorros_de_odrina_16__antonio_liebana.jpg'\n",
        "# url = 'https://www.ecoticias.com/wp-content/uploads/2022/01/GRKG_AV27_Huella_foto2.jpg'\n",
        "url = 'https://img.freepik.com/foto-gratis/ciervo-rojo-habitat-natural-rutina-ciervos-fauna-europea_475641-941.jpg?size=626&ext=jpg&ga=GA1.2.1518270500.1634256000'\n",
        "# url ='https://elguadarramista.files.wordpress.com/2016/07/7.jpg?w=1400'\n",
        "# url ='https://as01.epimg.net/diarioas/imagenes/2022/04/20/actualidad/1650466413_240889_1650466661_noticia_normal_recorte1.jpg'\n",
        "# url = 'https://www.fundacionaquae.org/wp-content/uploads/2021/10/meloncillo-clip-natura-1024x576.jpg'\n",
        "categorizar_imagen_url(url)"
      ]
    },
    {
      "cell_type": "code",
      "execution_count": null,
      "metadata": {
        "id": "GpBwgNfx9HN3"
      },
      "outputs": [],
      "source": [
        "# Introduce la url que desees sin comillas\n",
        "# Ejemplo:\n",
        "# https://encrypted-tbn0.gstatic.com/images?q=tbn:ANd9GcQ7jF9HT3bF-IrDPr2SG1YcGnzz0L2WNOlHdw&usqp=CAU\n",
        "url=input()\n",
        "categorizar_imagen_url(url)\n"
      ]
    }
  ],
  "metadata": {
    "colab": {
      "collapsed_sections": [],
      "name": "Analisis_Resultados_Reales_SinEjecutar.ipynb",
      "provenance": [],
      "include_colab_link": true
    },
    "gpuClass": "standard",
    "kernelspec": {
      "display_name": "Python 3",
      "name": "python3"
    },
    "language_info": {
      "name": "python"
    }
  },
  "nbformat": 4,
  "nbformat_minor": 0
}